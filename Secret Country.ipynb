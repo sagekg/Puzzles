{
 "cells": [
  {
   "cell_type": "code",
   "execution_count": 110,
   "metadata": {},
   "outputs": [],
   "source": [
    "import matplotlib.pyplot as plt\n",
    "import geopandas as gpd\n",
    "import pandas as pd\n",
    "import numpy as np\n",
    "import ipywidgets as widgets\n",
    "from ipywidgets import interact, interact_manual\n",
    "from IPython.display import display, clear_output\n"
   ]
  },
  {
   "cell_type": "code",
   "execution_count": null,
   "metadata": {},
   "outputs": [],
   "source": [
    "# Set up data\n",
    "data = gpd.read_file('country_shapes/World_Countries__Generalized_.shp')\n",
    "regions = pd.read_csv('country_shapes/regions.csv')\n",
    "\n",
    "r = []\n",
    "for c in data[\"COUNTRY\"]:\n",
    "    cr = regions[regions[\"name\"] == c][\"region\"].values\n",
    "    if len(cr) == 1:\n",
    "        r.append(cr[0])\n",
    "    else:\n",
    "        r.append(\"None\")\n",
    "    \n",
    "data[\"REGION\"] = r\n",
    "\n",
    "data.to_file(\"countries.shp\")"
   ]
  },
  {
   "cell_type": "code",
   "execution_count": 140,
   "metadata": {
    "scrolled": false
   },
   "outputs": [
    {
     "data": {
      "application/vnd.jupyter.widget-view+json": {
       "model_id": "6756f28c09c54aecab8dfd9b7d369293",
       "version_major": 2,
       "version_minor": 0
      },
      "text/plain": [
       "Button(description='Try Again', style=ButtonStyle())"
      ]
     },
     "metadata": {},
     "output_type": "display_data"
    },
    {
     "data": {
      "application/vnd.jupyter.widget-view+json": {
       "model_id": "4ab89731998c4d0f8dcb19b3752e9f51",
       "version_major": 2,
       "version_minor": 0
      },
      "text/plain": [
       "Button(description='Show Answer', style=ButtonStyle())"
      ]
     },
     "metadata": {},
     "output_type": "display_data"
    },
    {
     "data": {
      "application/vnd.jupyter.widget-view+json": {
       "model_id": "44e1b8cf31a84b24b1139fd7fe3845cd",
       "version_major": 2,
       "version_minor": 0
      },
      "text/plain": [
       "interactive(children=(Combobox(value='', description='Enter Country Name:', ensure_option=True, options=('Amer…"
      ]
     },
     "metadata": {},
     "output_type": "display_data"
    },
    {
     "data": {
      "application/vnd.jupyter.widget-view+json": {
       "model_id": "4f880e41a9d54c39b00ede5a6eaa404c",
       "version_major": 2,
       "version_minor": 0
      },
      "text/plain": [
       "interactive(children=(IntSlider(value=1, continuous_update=False, description='Number of Countries to Remove',…"
      ]
     },
     "metadata": {},
     "output_type": "display_data"
    }
   ],
   "source": [
    "'''\n",
    "To do: \n",
    "    Region Selector\n",
    "    Deploy\n",
    "'''\n",
    "\n",
    "# Read data\n",
    "data = gpd.read_file(\"countries.shp\")\n",
    "\n",
    "# Create Interactives\n",
    "countryText = widgets.Combobox(\n",
    "    options=list(data[\"COUNTRY\"]),\n",
    "    description='Enter Country Name:',\n",
    "    ensure_option=True,\n",
    "    disabled=False\n",
    ")\n",
    "tryAgain = widgets.Button(description=\"Try Again\")\n",
    "showAnswer = widgets.Button(description=\"Show Answer\")\n",
    "\n",
    "nc = widgets.IntSlider(\n",
    "    value=1,\n",
    "    min=0,\n",
    "    max=249,\n",
    "    step=1,\n",
    "    description='Number of Countries to Remove',\n",
    "    disabled=False,\n",
    "    continuous_update=False,\n",
    "    orientation='horizontal',\n",
    "    readout=True,\n",
    "    readout_format='d'\n",
    ")\n",
    "\n",
    "# Remove secret country\n",
    "# secrets = []\n",
    "def generate_map(n_countries=1):\n",
    "    clear_output()\n",
    "    if isinstance(n_countries, dict):\n",
    "        n_countries = n_countries.new[\"value\"]\n",
    "    secrets_idx = []\n",
    "    global secrets\n",
    "    secrets = []\n",
    "    for n in range(n_countries):\n",
    "        secret_idx = np.random.randint(len(data))\n",
    "        secret = data.loc[secret_idx]\n",
    "        \n",
    "        secrets_idx.append(secret_idx)\n",
    "        secrets.append(secret[\"COUNTRY\"])\n",
    "\n",
    "    display(data.drop(secrets_idx).explore(tiles=None, tooltip=False))\n",
    "    return secrets\n",
    "    \n",
    "def guessFunc(guess):\n",
    "    return guess\n",
    "\n",
    "def ncFunc(n):\n",
    "    print()\n",
    "    secrets = generate_map(n)\n",
    "    global n_countries\n",
    "    n_countries = n\n",
    "    return n\n",
    "\n",
    "def tryAgainFunc(n):\n",
    "    secrets = generate_map()\n",
    "    showMap()\n",
    "\n",
    "def showAnswerFunc(n):\n",
    "    print(\"The remaining secret countr(y/ies) is/are: \" + \", \".join(secrets))\n",
    "\n",
    "\n",
    "def showMap():\n",
    "    clear_output()\n",
    "    display(tryAgain)\n",
    "    display(showAnswer)\n",
    "    interact(guessFunc, guess=countryText)\n",
    "    interact(ncFunc, n=nc, names=['value'])\n",
    "    \n",
    "\n",
    "\n",
    "def box_enter(guess):\n",
    "    if isinstance(guess.new, str):\n",
    "        guess = guess.new\n",
    "        try:\n",
    "            if guess in secrets:\n",
    "                secrets.remove(guess)\n",
    "                print(guess + \" is correct! There are \" + str(len(secrets)) + \" countries remaining\")\n",
    "                if len(secrets) == 0:\n",
    "                    print(\"Congratulations! You found all the hidden countries!\")\n",
    "            else:\n",
    "                print(guess + \" is not correct, try again\")\n",
    "        except Exception as E:\n",
    "            print(E)\n",
    "#             pass\n",
    "    \n",
    "showMap()\n",
    "countryText.observe(box_enter)\n",
    "tryAgain.on_click(tryAgainFunc)\n",
    "showAnswer.on_click(showAnswerFunc)"
   ]
  },
  {
   "cell_type": "code",
   "execution_count": 139,
   "metadata": {},
   "outputs": [
    {
     "name": "stdout",
     "output_type": "stream",
     "text": [
      "['Morocco']\n"
     ]
    }
   ],
   "source": [
    "print(secrets)"
   ]
  },
  {
   "cell_type": "code",
   "execution_count": 117,
   "metadata": {},
   "outputs": [
    {
     "name": "stdout",
     "output_type": "stream",
     "text": [
      "Help on function observe in module traitlets.traitlets:\n",
      "\n",
      "observe(self, handler, names=traitlets.All, type='change')\n",
      "    Setup a handler to be called when a trait changes.\n",
      "    \n",
      "    This is used to setup dynamic notifications of trait changes.\n",
      "    \n",
      "    Parameters\n",
      "    ----------\n",
      "    handler : callable\n",
      "        A callable that is called when a trait changes. Its\n",
      "        signature should be ``handler(change)``, where ``change`` is a\n",
      "        dictionary. The change dictionary at least holds a 'type' key.\n",
      "        * ``type``: the type of notification.\n",
      "        Other keys may be passed depending on the value of 'type'. In the\n",
      "        case where type is 'change', we also have the following keys:\n",
      "        * ``owner`` : the HasTraits instance\n",
      "        * ``old`` : the old value of the modified trait attribute\n",
      "        * ``new`` : the new value of the modified trait attribute\n",
      "        * ``name`` : the name of the modified trait attribute.\n",
      "    names : list, str, All\n",
      "        If names is All, the handler will apply to all traits.  If a list\n",
      "        of str, handler will apply to all names in the list.  If a\n",
      "        str, the handler will apply just to that name.\n",
      "    type : str, All (default: 'change')\n",
      "        The type of notification to filter by. If equal to All, then all\n",
      "        notifications are passed to the observe handler.\n",
      "\n"
     ]
    }
   ],
   "source": [
    "help(widgets.Widget.observe)"
   ]
  },
  {
   "cell_type": "code",
   "execution_count": null,
   "metadata": {},
   "outputs": [],
   "source": []
  }
 ],
 "metadata": {
  "kernelspec": {
   "display_name": "Python 3",
   "language": "python",
   "name": "python3"
  },
  "language_info": {
   "codemirror_mode": {
    "name": "ipython",
    "version": 3
   },
   "file_extension": ".py",
   "mimetype": "text/x-python",
   "name": "python",
   "nbconvert_exporter": "python",
   "pygments_lexer": "ipython3",
   "version": "3.10.4"
  }
 },
 "nbformat": 4,
 "nbformat_minor": 2
}
